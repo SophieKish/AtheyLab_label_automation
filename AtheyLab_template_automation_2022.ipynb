{
  "nbformat": 4,
  "nbformat_minor": 0,
  "metadata": {
    "colab": {
      "provenance": [],
      "collapsed_sections": [
        "T0eba8yniOJP"
      ]
    },
    "kernelspec": {
      "name": "python3",
      "display_name": "Python 3"
    },
    "language_info": {
      "name": "python"
    }
  },
  "cells": [
    {
      "cell_type": "markdown",
      "source": [
        "# Athey Speciality Crops Entymology Lab\n",
        "## Label Template Automation (for High Tunnels)\n",
        "\n",
        "## Instructions\n",
        "1. Top Bar -> Runtime -> Run All (this will run this notebook with the example material and make sure imports are imported)\n",
        "2. In the Label Template Inputs, enter each input section based on the example provided, and then click the play button at the far left of each cell before moving onto the next cell\n",
        "3. Scroll down to the \"Cell to Run\" cell and click the play button on that cell (left hand side). This should output the blocks of label text.\n",
        "4. Copy over each block individually into a Word label template, print and use your new labels!"
      ],
      "metadata": {
        "id": "gGcsYv-GhyE2"
      }
    },
    {
      "cell_type": "markdown",
      "source": [
        "## Imports"
      ],
      "metadata": {
        "id": "T0eba8yniOJP"
      }
    },
    {
      "cell_type": "code",
      "execution_count": 32,
      "metadata": {
        "id": "aqeWmGMV47C9"
      },
      "outputs": [],
      "source": [
        "import numpy as np\n",
        "import pandas as pd\n",
        "# import awkward as ak\n",
        "from datetime import datetime, timedelta"
      ]
    },
    {
      "cell_type": "markdown",
      "source": [
        "## Label Template Inputs"
      ],
      "metadata": {
        "id": "A_i7ARuK5OOt"
      }
    },
    {
      "cell_type": "markdown",
      "source": [
        "ENTER Experiment number\n",
        "\n",
        "(example)\n",
        "\n",
        "exp_all = \"2203\""
      ],
      "metadata": {
        "id": "2zO4hxNNjHSX"
      }
    },
    {
      "cell_type": "code",
      "source": [
        "exp_all = \"2203\"          \n",
        "\n",
        "# Run me before moving on (play button on left hand side)"
      ],
      "metadata": {
        "id": "tFzG3hnbPvPL"
      },
      "execution_count": 33,
      "outputs": []
    },
    {
      "cell_type": "markdown",
      "source": [
        "Enter Farm name abrieviations\n",
        "\n",
        "(example)\n",
        "\n",
        "fm_all = [\"PW\", \"ZG\"]"
      ],
      "metadata": {
        "id": "4HPjoovwjG_H"
      }
    },
    {
      "cell_type": "code",
      "source": [
        "fm_all = [\"PW\", \"ZG\"]   \n",
        "\n",
        "# Run me before moving on               "
      ],
      "metadata": {
        "id": "XlTTAufCiZeb"
      },
      "execution_count": 34,
      "outputs": []
    },
    {
      "cell_type": "markdown",
      "source": [
        "ENTER Number of traps per tunnel\n",
        "\n",
        "(example)\n",
        "\n",
        "num_all = [8,4]"
      ],
      "metadata": {
        "id": "cI2x9AxgjGpw"
      }
    },
    {
      "cell_type": "code",
      "source": [
        "num_all = [8,4]   \n",
        "\n",
        "# Run me before moving on            "
      ],
      "metadata": {
        "id": "bc_pJGJUiZlJ"
      },
      "execution_count": 35,
      "outputs": []
    },
    {
      "cell_type": "markdown",
      "source": [
        "ENTER List of dates for each tunnel\n",
        "\n",
        "(example)\n",
        "\n",
        "dates_PW = [\"21 Nov 22\", \"28 Nov 22\", \"5 Dec 22\", \"12 Dec 22\", \"19 Dec 22\", \"26 Dec 22\", \"02 Jan 22\", \"09 Jan 22\"]\n",
        "\n",
        "dates_ZG = [\"2 Dec 22\", \"9 Dec 22\", \"16 Dec 22\", \"23 Dec 22\", \"30 Dec 22\"]\n",
        "\n",
        "dates_all = [dates_PW, dates_ZG] "
      ],
      "metadata": {
        "id": "zgBM0ulEi2QD"
      }
    },
    {
      "cell_type": "code",
      "source": [
        "dates_PW = [\"21 Nov 22\", \"28 Nov 22\", \"05 Dec 22\", \"12 Dec 22\", \"19 Dec 22\", \"26 Dec 22\", \"02 Jan 22\", \"09 Jan 22\", \"16 Jan 22\", \"23 Jan 22\", \"30 Jan 22\", \"06 Feb 22\", \"13 Feb 22\"]\n",
        "dates_ZG = [\"02 Dec 22\", \"09 Dec 22\", \"16 Dec 22\", \"23 Dec 22\", \"30 Dec 22\", \"06 Jan 22\", \"13 Jan 22\", \"20 Jan 22\", \"27 Jan 22\", \"03 Feb 22\", \"10 Feb 22\"]\n",
        "\n",
        "dates_all = [dates_PW, dates_ZG] \n",
        "\n",
        "# Run me before moving on "
      ],
      "metadata": {
        "id": "FKK8IlM9iZrB"
      },
      "execution_count": 44,
      "outputs": []
    },
    {
      "cell_type": "markdown",
      "source": [
        "Before continuing - \n",
        "**Double check that the order of *fm_all*,  *num_all*  and *dates_all*  correspond to the same tunnels / locations**"
      ],
      "metadata": {
        "id": "_9E21FrvjqmB"
      }
    },
    {
      "cell_type": "markdown",
      "source": [
        "## Functions to Produce Labels"
      ],
      "metadata": {
        "id": "1tBi2m2UkvOP"
      }
    },
    {
      "cell_type": "code",
      "source": [
        "def get_labels(exp=exp_all, fm=fm_all, num=num_all, dates=dates_all):\n",
        "  # Creates a 1D array listing all of the text combinations for labels\n",
        "  # Inputs:\n",
        "  #     exp:    experiment number (string)\n",
        "  #     fm:     farm abrieviations; each farm is one tunnel (list of strings)\n",
        "  #     num:    number of traps for each farm tunnel (list of int) \n",
        "  #     dates:  list of dates for each tunnel (list of lists of strings)\n",
        "  # Output:\n",
        "  #     labels: 1-dimensional array of strings\n",
        "  size = sum([n*len(d) for n,d in zip(num,dates)])\n",
        "  # print(\"size: \" + str(size)) # Uncomment to print out total number of entries that will be displayed\n",
        "  labels = [exp+\" \"]*size\n",
        "\n",
        "  i = 0 # labels index\n",
        "  for farm_i,farm in enumerate(fm):\n",
        "    for date in dates[farm_i]:\n",
        "      for n in range(num[farm_i]):\n",
        "        labels[i] += farm + \"-\" + str(n + 1) + \"       \" + date \n",
        "        i+=1\n",
        "\n",
        "  return labels  "
      ],
      "metadata": {
        "id": "i0nn0G3lZT_8"
      },
      "execution_count": 41,
      "outputs": []
    },
    {
      "cell_type": "code",
      "source": [
        "def pretty_print_labels(labels):\n",
        "  # Takes 1D array; prints in a 4x20 blocks (colxrow)\n",
        "  # Input:\n",
        "  #     labels: the text for each label (list of strings)\n",
        "  # Output: \n",
        "  #     none\n",
        "\n",
        "  p = 0 # counter for number of rows printed so far (to add space between every 20)\n",
        "  for i in range(0,len(labels),4): # print 4 columns at a time\n",
        "    if i+4 < len(labels):\n",
        "      print(labels[i] + \"\\t\\t\" + labels[i+1] + \"\\t\\t\" + labels[i+2] + \"\\t\\t\" + labels[i+3])\n",
        "    elif i+3 < len(labels):\n",
        "      print(labels[i] + \"\\t\\t\" + labels[i+1] + \"\\t\\t\" + labels[i+2]) # only 3 entries left\n",
        "    elif i+2 < len(labels):\n",
        "      print(labels[i] + \"\\t\\t\" + labels[i+1]) # only 2 entries left\n",
        "    else:\n",
        "      print(labels[i]) # only 1 entry left\n",
        "    p += 1\n",
        "    if(p%20==0): # separate every 20 rows\n",
        "      print(\"\\n\\n\")"
      ],
      "metadata": {
        "id": "62yYC9LYmd-U"
      },
      "execution_count": 42,
      "outputs": []
    },
    {
      "cell_type": "markdown",
      "source": [
        "## Cell to Run to Produce Labels"
      ],
      "metadata": {
        "id": "TWuDSBifkw2c"
      }
    },
    {
      "cell_type": "code",
      "source": [
        "# RUN ME\n",
        "pretty_print_labels(get_labels(exp=exp_all, fm=fm_all, num=num_all, dates=dates_all))\n",
        "\n",
        "# Copy from below"
      ],
      "metadata": {
        "colab": {
          "base_uri": "https://localhost:8080/"
        },
        "id": "iWiM9TfiZ5kd",
        "outputId": "3729984f-7237-43ab-c75f-3a96e2ecbb56"
      },
      "execution_count": 45,
      "outputs": [
        {
          "output_type": "stream",
          "name": "stdout",
          "text": [
            "2203 PW-1       21 Nov 22\t\t2203 PW-2       21 Nov 22\t\t2203 PW-3       21 Nov 22\t\t2203 PW-4       21 Nov 22\n",
            "2203 PW-5       21 Nov 22\t\t2203 PW-6       21 Nov 22\t\t2203 PW-7       21 Nov 22\t\t2203 PW-8       21 Nov 22\n",
            "2203 PW-1       28 Nov 22\t\t2203 PW-2       28 Nov 22\t\t2203 PW-3       28 Nov 22\t\t2203 PW-4       28 Nov 22\n",
            "2203 PW-5       28 Nov 22\t\t2203 PW-6       28 Nov 22\t\t2203 PW-7       28 Nov 22\t\t2203 PW-8       28 Nov 22\n",
            "2203 PW-1       05 Dec 22\t\t2203 PW-2       05 Dec 22\t\t2203 PW-3       05 Dec 22\t\t2203 PW-4       05 Dec 22\n",
            "2203 PW-5       05 Dec 22\t\t2203 PW-6       05 Dec 22\t\t2203 PW-7       05 Dec 22\t\t2203 PW-8       05 Dec 22\n",
            "2203 PW-1       12 Dec 22\t\t2203 PW-2       12 Dec 22\t\t2203 PW-3       12 Dec 22\t\t2203 PW-4       12 Dec 22\n",
            "2203 PW-5       12 Dec 22\t\t2203 PW-6       12 Dec 22\t\t2203 PW-7       12 Dec 22\t\t2203 PW-8       12 Dec 22\n",
            "2203 PW-1       19 Dec 22\t\t2203 PW-2       19 Dec 22\t\t2203 PW-3       19 Dec 22\t\t2203 PW-4       19 Dec 22\n",
            "2203 PW-5       19 Dec 22\t\t2203 PW-6       19 Dec 22\t\t2203 PW-7       19 Dec 22\t\t2203 PW-8       19 Dec 22\n",
            "2203 PW-1       26 Dec 22\t\t2203 PW-2       26 Dec 22\t\t2203 PW-3       26 Dec 22\t\t2203 PW-4       26 Dec 22\n",
            "2203 PW-5       26 Dec 22\t\t2203 PW-6       26 Dec 22\t\t2203 PW-7       26 Dec 22\t\t2203 PW-8       26 Dec 22\n",
            "2203 PW-1       02 Jan 22\t\t2203 PW-2       02 Jan 22\t\t2203 PW-3       02 Jan 22\t\t2203 PW-4       02 Jan 22\n",
            "2203 PW-5       02 Jan 22\t\t2203 PW-6       02 Jan 22\t\t2203 PW-7       02 Jan 22\t\t2203 PW-8       02 Jan 22\n",
            "2203 PW-1       09 Jan 22\t\t2203 PW-2       09 Jan 22\t\t2203 PW-3       09 Jan 22\t\t2203 PW-4       09 Jan 22\n",
            "2203 PW-5       09 Jan 22\t\t2203 PW-6       09 Jan 22\t\t2203 PW-7       09 Jan 22\t\t2203 PW-8       09 Jan 22\n",
            "2203 PW-1       16 Jan 22\t\t2203 PW-2       16 Jan 22\t\t2203 PW-3       16 Jan 22\t\t2203 PW-4       16 Jan 22\n",
            "2203 PW-5       16 Jan 22\t\t2203 PW-6       16 Jan 22\t\t2203 PW-7       16 Jan 22\t\t2203 PW-8       16 Jan 22\n",
            "2203 PW-1       23 Jan 22\t\t2203 PW-2       23 Jan 22\t\t2203 PW-3       23 Jan 22\t\t2203 PW-4       23 Jan 22\n",
            "2203 PW-5       23 Jan 22\t\t2203 PW-6       23 Jan 22\t\t2203 PW-7       23 Jan 22\t\t2203 PW-8       23 Jan 22\n",
            "\n",
            "\n",
            "\n",
            "2203 PW-1       30 Jan 22\t\t2203 PW-2       30 Jan 22\t\t2203 PW-3       30 Jan 22\t\t2203 PW-4       30 Jan 22\n",
            "2203 PW-5       30 Jan 22\t\t2203 PW-6       30 Jan 22\t\t2203 PW-7       30 Jan 22\t\t2203 PW-8       30 Jan 22\n",
            "2203 PW-1       06 Feb 22\t\t2203 PW-2       06 Feb 22\t\t2203 PW-3       06 Feb 22\t\t2203 PW-4       06 Feb 22\n",
            "2203 PW-5       06 Feb 22\t\t2203 PW-6       06 Feb 22\t\t2203 PW-7       06 Feb 22\t\t2203 PW-8       06 Feb 22\n",
            "2203 PW-1       13 Feb 22\t\t2203 PW-2       13 Feb 22\t\t2203 PW-3       13 Feb 22\t\t2203 PW-4       13 Feb 22\n",
            "2203 PW-5       13 Feb 22\t\t2203 PW-6       13 Feb 22\t\t2203 PW-7       13 Feb 22\t\t2203 PW-8       13 Feb 22\n",
            "2203 ZG-1       02 Dec 22\t\t2203 ZG-2       02 Dec 22\t\t2203 ZG-3       02 Dec 22\t\t2203 ZG-4       02 Dec 22\n",
            "2203 ZG-1       09 Dec 22\t\t2203 ZG-2       09 Dec 22\t\t2203 ZG-3       09 Dec 22\t\t2203 ZG-4       09 Dec 22\n",
            "2203 ZG-1       16 Dec 22\t\t2203 ZG-2       16 Dec 22\t\t2203 ZG-3       16 Dec 22\t\t2203 ZG-4       16 Dec 22\n",
            "2203 ZG-1       23 Dec 22\t\t2203 ZG-2       23 Dec 22\t\t2203 ZG-3       23 Dec 22\t\t2203 ZG-4       23 Dec 22\n",
            "2203 ZG-1       30 Dec 22\t\t2203 ZG-2       30 Dec 22\t\t2203 ZG-3       30 Dec 22\t\t2203 ZG-4       30 Dec 22\n",
            "2203 ZG-1       06 Jan 22\t\t2203 ZG-2       06 Jan 22\t\t2203 ZG-3       06 Jan 22\t\t2203 ZG-4       06 Jan 22\n",
            "2203 ZG-1       13 Jan 22\t\t2203 ZG-2       13 Jan 22\t\t2203 ZG-3       13 Jan 22\t\t2203 ZG-4       13 Jan 22\n",
            "2203 ZG-1       20 Jan 22\t\t2203 ZG-2       20 Jan 22\t\t2203 ZG-3       20 Jan 22\t\t2203 ZG-4       20 Jan 22\n",
            "2203 ZG-1       27 Jan 22\t\t2203 ZG-2       27 Jan 22\t\t2203 ZG-3       27 Jan 22\t\t2203 ZG-4       27 Jan 22\n",
            "2203 ZG-1       03 Feb 22\t\t2203 ZG-2       03 Feb 22\t\t2203 ZG-3       03 Feb 22\t\t2203 ZG-4       03 Feb 22\n",
            "2203 ZG-1       10 Feb 22\t\t2203 ZG-2       10 Feb 22\t\t2203 ZG-3       10 Feb 22\n"
          ]
        }
      ]
    },
    {
      "cell_type": "code",
      "source": [],
      "metadata": {
        "id": "tcsPle_enzs_"
      },
      "execution_count": null,
      "outputs": []
    }
  ]
}